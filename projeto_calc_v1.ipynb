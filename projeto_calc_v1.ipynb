{
 "cells": [
  {
   "cell_type": "code",
   "execution_count": 15,
   "id": "2fc6463d-7f16-47f6-a24c-c0b192eb2454",
   "metadata": {},
   "outputs": [
    {
     "name": "stdout",
     "output_type": "stream",
     "text": [
      " \n",
      "\u001b[H\u001b[2J[ 0 ]  SOMA \n",
      "[ 1 ]  SUBTRAÇÃO \n",
      "[ 2 ]  MULTIPLICAÇÃO \n",
      "[ 3 ]  DIVISÃO \n",
      "[ 4 ]  EXPONENCIAÇÃO \n",
      " \n",
      " Qual operação, deseja realizar? \n"
     ]
    },
    {
     "name": "stdin",
     "output_type": "stream",
     "text": [
      " 1\n"
     ]
    },
    {
     "name": "stdout",
     "output_type": "stream",
     "text": [
      " \n",
      " -  escolhida.\n",
      " \n",
      " Qual o primeiro valor? \n"
     ]
    },
    {
     "name": "stdin",
     "output_type": "stream",
     "text": [
      " 20\n"
     ]
    },
    {
     "name": "stdout",
     "output_type": "stream",
     "text": [
      " \n",
      " Qual o segundo valor? \n"
     ]
    },
    {
     "name": "stdin",
     "output_type": "stream",
     "text": [
      " 20\n"
     ]
    },
    {
     "name": "stdout",
     "output_type": "stream",
     "text": [
      " \n",
      " 20.0  -  20.0 = 0.0 \n",
      " \n",
      " Deseja fazer mais alguma operação? (Digite 1, para sair.)\n"
     ]
    },
    {
     "name": "stdin",
     "output_type": "stream",
     "text": [
      " 1\n"
     ]
    }
   ],
   "source": [
    "import os\n",
    "\n",
    "\n",
    "print(\" \")\n",
    "operations = {\n",
    "    \" + \" : \" SOMA \",\n",
    "    \" - \" : \" SUBTRAÇÃO \",\n",
    "    \" * \" : \" MULTIPLICAÇÃO \",\n",
    "    \" / \" : \" DIVISÃO \",\n",
    "    \" ˆ \" : \" EXPONENCIAÇÃO \"}\n",
    "\n",
    "while True:\n",
    "    os.system(\"clear\")\n",
    "    i = 0 \n",
    "    for op, name in operations.items():\n",
    "        print(\"[\", i, \"]\", name)\n",
    "        i += 1\n",
    "    print(\" \")\n",
    "    \n",
    "    print(\" Qual operação, deseja realizar? \")\n",
    "    op = int(input())\n",
    "    op_string = list(operations.keys())[op]\n",
    "        \n",
    "    print(\" \")\n",
    "    print(\"{} escolhida.\".format(op_string))\n",
    "    \n",
    "    print(\" \")\n",
    "    print(\" Qual o primeiro valor? \")\n",
    "    v1 = float(input())\n",
    "    print(\" \")\n",
    "    print(\" Qual o segundo valor? \")\n",
    "    v2 = float(input())\n",
    "    \n",
    "    if op == 0:\n",
    "        calc = v1 + v2\n",
    "        \n",
    "    elif op == 1:\n",
    "        calc = v1 - v2\n",
    "        \n",
    "    elif op == 2:\n",
    "        calc = v1 * v2\n",
    "        \n",
    "    elif op == 3:\n",
    "        calc = v1 / v2\n",
    "        \n",
    "    elif op == 4:\n",
    "        calc = v1 ** v2\n",
    "        \n",
    "    print(\" \")\n",
    "    print(\" {} {} {} = {} \".format(v1, op_string, v2, calc ))\n",
    "    \n",
    "    print(\" \")\n",
    "    print(\" Deseja fazer mais alguma operação? (Digite 1, para sair.)\")\n",
    "    comando = int(input())\n",
    "    \n",
    "    if comando == 1:\n",
    "        break\n",
    "        \n",
    "        \n",
    "    \n",
    "\n"
   ]
  },
  {
   "cell_type": "code",
   "execution_count": null,
   "id": "55bd88f0-51bf-48af-992e-7cf090e718ce",
   "metadata": {},
   "outputs": [],
   "source": []
  }
 ],
 "metadata": {
  "kernelspec": {
   "display_name": "Python 3 (ipykernel)",
   "language": "python",
   "name": "python3"
  },
  "language_info": {
   "codemirror_mode": {
    "name": "ipython",
    "version": 3
   },
   "file_extension": ".py",
   "mimetype": "text/x-python",
   "name": "python",
   "nbconvert_exporter": "python",
   "pygments_lexer": "ipython3",
   "version": "3.9.12"
  }
 },
 "nbformat": 4,
 "nbformat_minor": 5
}
